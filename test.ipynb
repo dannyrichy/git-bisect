{
 "cells": [
  {
   "cell_type": "code",
   "execution_count": 1,
   "metadata": {},
   "outputs": [],
   "source": [
    "import torch"
   ]
  },
  {
   "cell_type": "code",
   "execution_count": 2,
   "metadata": {},
   "outputs": [],
   "source": [
    "A= torch.FloatTensor([[[1,2],[3,4],[5,6],[7,8]], [[9,10],[11,12],[13,14],[15,16]], [[17,18],[19,20],[21,22],[23,24]]])"
   ]
  },
  {
   "cell_type": "code",
   "execution_count": 3,
   "metadata": {},
   "outputs": [],
   "source": [
    "A = torch.stack((A, 2*A))"
   ]
  },
  {
   "cell_type": "code",
   "execution_count": 5,
   "metadata": {},
   "outputs": [],
   "source": [
    "A = torch.einsum('ijkl -> jikl', A)"
   ]
  },
  {
   "cell_type": "code",
   "execution_count": 9,
   "metadata": {},
   "outputs": [
    {
     "data": {
      "text/plain": [
       "tensor([[[[ 1.,  2.],\n",
       "          [ 3.,  4.],\n",
       "          [ 5.,  6.],\n",
       "          [ 7.,  8.]],\n",
       "\n",
       "         [[ 2.,  4.],\n",
       "          [ 6.,  8.],\n",
       "          [10., 12.],\n",
       "          [14., 16.]]],\n",
       "\n",
       "\n",
       "        [[[ 9., 10.],\n",
       "          [11., 12.],\n",
       "          [13., 14.],\n",
       "          [15., 16.]],\n",
       "\n",
       "         [[18., 20.],\n",
       "          [22., 24.],\n",
       "          [26., 28.],\n",
       "          [30., 32.]]],\n",
       "\n",
       "\n",
       "        [[[17., 18.],\n",
       "          [19., 20.],\n",
       "          [21., 22.],\n",
       "          [23., 24.]],\n",
       "\n",
       "         [[34., 36.],\n",
       "          [38., 40.],\n",
       "          [42., 44.],\n",
       "          [46., 48.]]]])"
      ]
     },
     "execution_count": 9,
     "metadata": {},
     "output_type": "execute_result"
    }
   ],
   "source": [
    "A"
   ]
  },
  {
   "cell_type": "code",
   "execution_count": 10,
   "metadata": {},
   "outputs": [
    {
     "data": {
      "text/plain": [
       "tensor([[0., 0., 1.],\n",
       "        [1., 0., 0.],\n",
       "        [0., 1., 0.]])"
      ]
     },
     "execution_count": 10,
     "metadata": {},
     "output_type": "execute_result"
    }
   ],
   "source": [
    "tmp = torch.tensor([2,0,1])\n",
    "P = torch.eye(3)\n",
    "P = P[tmp]\n",
    "P"
   ]
  },
  {
   "cell_type": "code",
   "execution_count": 11,
   "metadata": {},
   "outputs": [
    {
     "data": {
      "text/plain": [
       "tensor([[[[17., 18.],\n",
       "          [19., 20.],\n",
       "          [21., 22.],\n",
       "          [23., 24.]],\n",
       "\n",
       "         [[34., 36.],\n",
       "          [38., 40.],\n",
       "          [42., 44.],\n",
       "          [46., 48.]]],\n",
       "\n",
       "\n",
       "        [[[ 1.,  2.],\n",
       "          [ 3.,  4.],\n",
       "          [ 5.,  6.],\n",
       "          [ 7.,  8.]],\n",
       "\n",
       "         [[ 2.,  4.],\n",
       "          [ 6.,  8.],\n",
       "          [10., 12.],\n",
       "          [14., 16.]]],\n",
       "\n",
       "\n",
       "        [[[ 9., 10.],\n",
       "          [11., 12.],\n",
       "          [13., 14.],\n",
       "          [15., 16.]],\n",
       "\n",
       "         [[18., 20.],\n",
       "          [22., 24.],\n",
       "          [26., 28.],\n",
       "          [30., 32.]]]])"
      ]
     },
     "execution_count": 11,
     "metadata": {},
     "output_type": "execute_result"
    }
   ],
   "source": [
    "torch.einsum('ij, j... -> i...', P,A)"
   ]
  },
  {
   "cell_type": "code",
   "execution_count": 16,
   "metadata": {},
   "outputs": [
    {
     "data": {
      "text/plain": [
       "tensor([ 1.,  9., 17.])"
      ]
     },
     "execution_count": 16,
     "metadata": {},
     "output_type": "execute_result"
    }
   ],
   "source": [
    "A[:,0,0,0]"
   ]
  },
  {
   "cell_type": "code",
   "execution_count": 20,
   "metadata": {},
   "outputs": [
    {
     "data": {
      "text/plain": [
       "tensor([17.,  1.,  9.])"
      ]
     },
     "execution_count": 20,
     "metadata": {},
     "output_type": "execute_result"
    }
   ],
   "source": [
    "torch.einsum('ij, j...-> i...', P,A[:,0,0,0])"
   ]
  },
  {
   "cell_type": "code",
   "execution_count": 10,
   "metadata": {},
   "outputs": [],
   "source": [
    "B = torch.einsum('jk..., ik -> ji...', A, P)"
   ]
  },
  {
   "cell_type": "code",
   "execution_count": 11,
   "metadata": {},
   "outputs": [
    {
     "data": {
      "text/plain": [
       "tensor([[17., 18., 19., 20., 21., 22., 23., 24.,  1.,  2.,  3.,  4.,  5.,  6.,\n",
       "          7.,  8.,  9., 10., 11., 12., 13., 14., 15., 16.],\n",
       "        [34., 36., 38., 40., 42., 44., 46., 48.,  2.,  4.,  6.,  8., 10., 12.,\n",
       "         14., 16., 18., 20., 22., 24., 26., 28., 30., 32.]])"
      ]
     },
     "execution_count": 11,
     "metadata": {},
     "output_type": "execute_result"
    }
   ],
   "source": [
    "B.flatten(start_dim=1)"
   ]
  },
  {
   "cell_type": "code",
   "execution_count": 39,
   "metadata": {},
   "outputs": [
    {
     "data": {
      "text/plain": [
       "tensor([[17., 18., 19., 20., 21., 22., 23., 24.,  1.,  2.,  3.,  4.,  5.,  6.,\n",
       "          7.,  8.,  9., 10., 11., 12., 13., 14., 15., 16.],\n",
       "        [34., 36., 38., 40., 42., 44., 46., 48.,  2.,  4.,  6.,  8., 10., 12.,\n",
       "         14., 16., 18., 20., 22., 24., 26., 28., 30., 32.]])"
      ]
     },
     "execution_count": 39,
     "metadata": {},
     "output_type": "execute_result"
    }
   ],
   "source": [
    "torch.einsum(\n",
    "                    \"jk..., ki -> ji...\",\n",
    "                    A.flatten(start_dim=1),\n",
    "                    torch.kron(P.T.contiguous(),torch.eye(8)),\n",
    "                )"
   ]
  },
  {
   "cell_type": "code",
   "execution_count": 44,
   "metadata": {},
   "outputs": [
    {
     "data": {
      "text/plain": [
       "torch.Size([24, 24])"
      ]
     },
     "execution_count": 44,
     "metadata": {},
     "output_type": "execute_result"
    }
   ],
   "source": [
    "torch.block_diag(P,P,P,P,P,P,P,P).shape"
   ]
  },
  {
   "cell_type": "code",
   "execution_count": 37,
   "metadata": {},
   "outputs": [
    {
     "data": {
      "text/plain": [
       "tensor([[0., 1., 0.],\n",
       "        [0., 0., 1.],\n",
       "        [1., 0., 0.]])"
      ]
     },
     "execution_count": 37,
     "metadata": {},
     "output_type": "execute_result"
    }
   ],
   "source": [
    "P.T"
   ]
  },
  {
   "cell_type": "code",
   "execution_count": 48,
   "metadata": {},
   "outputs": [
    {
     "name": "stdout",
     "output_type": "stream",
     "text": [
      "tensor([0., 1., 0.])\n",
      "tensor([0., 0., 1.])\n",
      "tensor([1., 0., 0.])\n"
     ]
    }
   ],
   "source": [
    "for k in P.T:\n",
    "    for j in "
   ]
  },
  {
   "cell_type": "code",
   "execution_count": null,
   "metadata": {},
   "outputs": [],
   "source": []
  }
 ],
 "metadata": {
  "kernelspec": {
   "display_name": "Python 3.10.6 ('dl-proj')",
   "language": "python",
   "name": "python3"
  },
  "language_info": {
   "codemirror_mode": {
    "name": "ipython",
    "version": 3
   },
   "file_extension": ".py",
   "mimetype": "text/x-python",
   "name": "python",
   "nbconvert_exporter": "python",
   "pygments_lexer": "ipython3",
   "version": "3.10.6"
  },
  "orig_nbformat": 4,
  "vscode": {
   "interpreter": {
    "hash": "a2e6efb4ff4531a6e6e5f44b0e0950483a55d50d799b466a6c6bf0d9c7dd1815"
   }
  }
 },
 "nbformat": 4,
 "nbformat_minor": 2
}
